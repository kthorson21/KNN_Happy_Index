{
 "cells": [
  {
   "cell_type": "markdown",
   "id": "90467dbd-a29e-4b5f-bbb5-687b9f526b0c",
   "metadata": {},
   "source": [
    "# K Nearest Neighbor"
   ]
  },
  {
   "cell_type": "markdown",
   "id": "97ba90de-87b9-4283-b651-cbc72776043d",
   "metadata": {},
   "source": [
    "We will use the KNN machine learning method on this dataset to predict the region using the countries happiness score and other characteristics."
   ]
  },
  {
   "cell_type": "markdown",
   "id": "9c4e34d2-e39d-47ac-ba7c-022baca717b2",
   "metadata": {},
   "source": [
    "## 1. Import Packages"
   ]
  },
  {
   "cell_type": "code",
   "execution_count": 71,
   "id": "272bce75-4671-4c6b-ae82-1a3c09737b6d",
   "metadata": {},
   "outputs": [],
   "source": [
    "import pandas as pd\n",
    "import numpy as np"
   ]
  },
  {
   "cell_type": "markdown",
   "id": "00e9e3a4-194c-4158-a540-55e702474859",
   "metadata": {},
   "source": [
    "## 2. Read in the Dataset\n",
    "\n",
    "The dataset can be found in my GitHub repository or by following this link:\n",
    "https://www.kaggle.com/ajaypalsinghlo/world-happiness-report-2021"
   ]
  },
  {
   "cell_type": "code",
   "execution_count": 72,
   "id": "a9c65988-16fe-462f-850c-637008ae6d46",
   "metadata": {},
   "outputs": [
    {
     "data": {
      "text/html": [
       "<div>\n",
       "<style scoped>\n",
       "    .dataframe tbody tr th:only-of-type {\n",
       "        vertical-align: middle;\n",
       "    }\n",
       "\n",
       "    .dataframe tbody tr th {\n",
       "        vertical-align: top;\n",
       "    }\n",
       "\n",
       "    .dataframe thead th {\n",
       "        text-align: right;\n",
       "    }\n",
       "</style>\n",
       "<table border=\"1\" class=\"dataframe\">\n",
       "  <thead>\n",
       "    <tr style=\"text-align: right;\">\n",
       "      <th></th>\n",
       "      <th>Country name</th>\n",
       "      <th>Regional indicator</th>\n",
       "      <th>Ladder score</th>\n",
       "      <th>Standard error of ladder score</th>\n",
       "      <th>upperwhisker</th>\n",
       "      <th>lowerwhisker</th>\n",
       "      <th>Logged GDP per capita</th>\n",
       "      <th>Social support</th>\n",
       "      <th>Healthy life expectancy</th>\n",
       "      <th>Freedom to make life choices</th>\n",
       "      <th>Generosity</th>\n",
       "      <th>Perceptions of corruption</th>\n",
       "      <th>Ladder score in Dystopia</th>\n",
       "      <th>Explained by: Log GDP per capita</th>\n",
       "      <th>Explained by: Social support</th>\n",
       "      <th>Explained by: Healthy life expectancy</th>\n",
       "      <th>Explained by: Freedom to make life choices</th>\n",
       "      <th>Explained by: Generosity</th>\n",
       "      <th>Explained by: Perceptions of corruption</th>\n",
       "      <th>Dystopia + residual</th>\n",
       "    </tr>\n",
       "  </thead>\n",
       "  <tbody>\n",
       "    <tr>\n",
       "      <th>0</th>\n",
       "      <td>Finland</td>\n",
       "      <td>Western Europe</td>\n",
       "      <td>7.842</td>\n",
       "      <td>0.032</td>\n",
       "      <td>7.904</td>\n",
       "      <td>7.780</td>\n",
       "      <td>10.775</td>\n",
       "      <td>0.954</td>\n",
       "      <td>72.0</td>\n",
       "      <td>0.949</td>\n",
       "      <td>-0.098</td>\n",
       "      <td>0.186</td>\n",
       "      <td>2.43</td>\n",
       "      <td>1.446</td>\n",
       "      <td>1.106</td>\n",
       "      <td>0.741</td>\n",
       "      <td>0.691</td>\n",
       "      <td>0.124</td>\n",
       "      <td>0.481</td>\n",
       "      <td>3.253</td>\n",
       "    </tr>\n",
       "    <tr>\n",
       "      <th>1</th>\n",
       "      <td>Denmark</td>\n",
       "      <td>Western Europe</td>\n",
       "      <td>7.620</td>\n",
       "      <td>0.035</td>\n",
       "      <td>7.687</td>\n",
       "      <td>7.552</td>\n",
       "      <td>10.933</td>\n",
       "      <td>0.954</td>\n",
       "      <td>72.7</td>\n",
       "      <td>0.946</td>\n",
       "      <td>0.030</td>\n",
       "      <td>0.179</td>\n",
       "      <td>2.43</td>\n",
       "      <td>1.502</td>\n",
       "      <td>1.108</td>\n",
       "      <td>0.763</td>\n",
       "      <td>0.686</td>\n",
       "      <td>0.208</td>\n",
       "      <td>0.485</td>\n",
       "      <td>2.868</td>\n",
       "    </tr>\n",
       "    <tr>\n",
       "      <th>2</th>\n",
       "      <td>Switzerland</td>\n",
       "      <td>Western Europe</td>\n",
       "      <td>7.571</td>\n",
       "      <td>0.036</td>\n",
       "      <td>7.643</td>\n",
       "      <td>7.500</td>\n",
       "      <td>11.117</td>\n",
       "      <td>0.942</td>\n",
       "      <td>74.4</td>\n",
       "      <td>0.919</td>\n",
       "      <td>0.025</td>\n",
       "      <td>0.292</td>\n",
       "      <td>2.43</td>\n",
       "      <td>1.566</td>\n",
       "      <td>1.079</td>\n",
       "      <td>0.816</td>\n",
       "      <td>0.653</td>\n",
       "      <td>0.204</td>\n",
       "      <td>0.413</td>\n",
       "      <td>2.839</td>\n",
       "    </tr>\n",
       "    <tr>\n",
       "      <th>3</th>\n",
       "      <td>Iceland</td>\n",
       "      <td>Western Europe</td>\n",
       "      <td>7.554</td>\n",
       "      <td>0.059</td>\n",
       "      <td>7.670</td>\n",
       "      <td>7.438</td>\n",
       "      <td>10.878</td>\n",
       "      <td>0.983</td>\n",
       "      <td>73.0</td>\n",
       "      <td>0.955</td>\n",
       "      <td>0.160</td>\n",
       "      <td>0.673</td>\n",
       "      <td>2.43</td>\n",
       "      <td>1.482</td>\n",
       "      <td>1.172</td>\n",
       "      <td>0.772</td>\n",
       "      <td>0.698</td>\n",
       "      <td>0.293</td>\n",
       "      <td>0.170</td>\n",
       "      <td>2.967</td>\n",
       "    </tr>\n",
       "    <tr>\n",
       "      <th>4</th>\n",
       "      <td>Netherlands</td>\n",
       "      <td>Western Europe</td>\n",
       "      <td>7.464</td>\n",
       "      <td>0.027</td>\n",
       "      <td>7.518</td>\n",
       "      <td>7.410</td>\n",
       "      <td>10.932</td>\n",
       "      <td>0.942</td>\n",
       "      <td>72.4</td>\n",
       "      <td>0.913</td>\n",
       "      <td>0.175</td>\n",
       "      <td>0.338</td>\n",
       "      <td>2.43</td>\n",
       "      <td>1.501</td>\n",
       "      <td>1.079</td>\n",
       "      <td>0.753</td>\n",
       "      <td>0.647</td>\n",
       "      <td>0.302</td>\n",
       "      <td>0.384</td>\n",
       "      <td>2.798</td>\n",
       "    </tr>\n",
       "  </tbody>\n",
       "</table>\n",
       "</div>"
      ],
      "text/plain": [
       "  Country name Regional indicator  Ladder score  \\\n",
       "0      Finland     Western Europe         7.842   \n",
       "1      Denmark     Western Europe         7.620   \n",
       "2  Switzerland     Western Europe         7.571   \n",
       "3      Iceland     Western Europe         7.554   \n",
       "4  Netherlands     Western Europe         7.464   \n",
       "\n",
       "   Standard error of ladder score  upperwhisker  lowerwhisker  \\\n",
       "0                           0.032         7.904         7.780   \n",
       "1                           0.035         7.687         7.552   \n",
       "2                           0.036         7.643         7.500   \n",
       "3                           0.059         7.670         7.438   \n",
       "4                           0.027         7.518         7.410   \n",
       "\n",
       "   Logged GDP per capita  Social support  Healthy life expectancy  \\\n",
       "0                 10.775           0.954                     72.0   \n",
       "1                 10.933           0.954                     72.7   \n",
       "2                 11.117           0.942                     74.4   \n",
       "3                 10.878           0.983                     73.0   \n",
       "4                 10.932           0.942                     72.4   \n",
       "\n",
       "   Freedom to make life choices  Generosity  Perceptions of corruption  \\\n",
       "0                         0.949      -0.098                      0.186   \n",
       "1                         0.946       0.030                      0.179   \n",
       "2                         0.919       0.025                      0.292   \n",
       "3                         0.955       0.160                      0.673   \n",
       "4                         0.913       0.175                      0.338   \n",
       "\n",
       "   Ladder score in Dystopia  Explained by: Log GDP per capita  \\\n",
       "0                      2.43                             1.446   \n",
       "1                      2.43                             1.502   \n",
       "2                      2.43                             1.566   \n",
       "3                      2.43                             1.482   \n",
       "4                      2.43                             1.501   \n",
       "\n",
       "   Explained by: Social support  Explained by: Healthy life expectancy  \\\n",
       "0                         1.106                                  0.741   \n",
       "1                         1.108                                  0.763   \n",
       "2                         1.079                                  0.816   \n",
       "3                         1.172                                  0.772   \n",
       "4                         1.079                                  0.753   \n",
       "\n",
       "   Explained by: Freedom to make life choices  Explained by: Generosity  \\\n",
       "0                                       0.691                     0.124   \n",
       "1                                       0.686                     0.208   \n",
       "2                                       0.653                     0.204   \n",
       "3                                       0.698                     0.293   \n",
       "4                                       0.647                     0.302   \n",
       "\n",
       "   Explained by: Perceptions of corruption  Dystopia + residual  \n",
       "0                                    0.481                3.253  \n",
       "1                                    0.485                2.868  \n",
       "2                                    0.413                2.839  \n",
       "3                                    0.170                2.967  \n",
       "4                                    0.384                2.798  "
      ]
     },
     "execution_count": 72,
     "metadata": {},
     "output_type": "execute_result"
    }
   ],
   "source": [
    "df = pd.read_csv('C:/Users/kjtre/OneDrive/Documents/Loyola/BSAD 699/Article/world-happiness-report-2021.csv')\n",
    "df.head()"
   ]
  },
  {
   "cell_type": "markdown",
   "id": "1dc4c953-318f-479f-a2df-da6a61f1ff44",
   "metadata": {},
   "source": [
    "This data set includes 20 variables, many of which will not be used in our model."
   ]
  },
  {
   "cell_type": "code",
   "execution_count": 73,
   "id": "6c9c16aa-7ee5-418f-83b3-7dac8d0e442f",
   "metadata": {},
   "outputs": [
    {
     "name": "stdout",
     "output_type": "stream",
     "text": [
      "<class 'pandas.core.frame.DataFrame'>\n",
      "RangeIndex: 149 entries, 0 to 148\n",
      "Data columns (total 20 columns):\n",
      " #   Column                                      Non-Null Count  Dtype  \n",
      "---  ------                                      --------------  -----  \n",
      " 0   Country name                                149 non-null    object \n",
      " 1   Regional indicator                          149 non-null    object \n",
      " 2   Ladder score                                149 non-null    float64\n",
      " 3   Standard error of ladder score              149 non-null    float64\n",
      " 4   upperwhisker                                149 non-null    float64\n",
      " 5   lowerwhisker                                149 non-null    float64\n",
      " 6   Logged GDP per capita                       149 non-null    float64\n",
      " 7   Social support                              149 non-null    float64\n",
      " 8   Healthy life expectancy                     149 non-null    float64\n",
      " 9   Freedom to make life choices                149 non-null    float64\n",
      " 10  Generosity                                  149 non-null    float64\n",
      " 11  Perceptions of corruption                   149 non-null    float64\n",
      " 12  Ladder score in Dystopia                    149 non-null    float64\n",
      " 13  Explained by: Log GDP per capita            149 non-null    float64\n",
      " 14  Explained by: Social support                149 non-null    float64\n",
      " 15  Explained by: Healthy life expectancy       149 non-null    float64\n",
      " 16  Explained by: Freedom to make life choices  149 non-null    float64\n",
      " 17  Explained by: Generosity                    149 non-null    float64\n",
      " 18  Explained by: Perceptions of corruption     149 non-null    float64\n",
      " 19  Dystopia + residual                         149 non-null    float64\n",
      "dtypes: float64(18), object(2)\n",
      "memory usage: 23.4+ KB\n"
     ]
    }
   ],
   "source": [
    "df.info()"
   ]
  },
  {
   "cell_type": "markdown",
   "id": "b552d621-b8f3-42fc-bad7-af96009f0b2d",
   "metadata": {},
   "source": [
    "## 3. Training the Model\n",
    "\n",
    "### 3.1 Selecting which Features to Keep or Drop\n",
    "\n",
    "To get a full description of the data please visit the Kaggle link posted above. For this example we will keep our target variable, Regional indicator, and a number of other variables wich describe the characteristics of the country."
   ]
  },
  {
   "cell_type": "code",
   "execution_count": 74,
   "id": "d32ae841-49db-4090-b02d-3f31512e4c41",
   "metadata": {},
   "outputs": [],
   "source": [
    "df = df.drop(columns=df.columns[12:])\n",
    "df = df.drop(columns=['Country name', 'upperwhisker', 'lowerwhisker', 'Standard error of ladder score'])"
   ]
  },
  {
   "cell_type": "code",
   "execution_count": 75,
   "id": "4fc90e28-0ace-497c-923e-86899f3f38a1",
   "metadata": {},
   "outputs": [
    {
     "name": "stdout",
     "output_type": "stream",
     "text": [
      "<class 'pandas.core.frame.DataFrame'>\n",
      "RangeIndex: 149 entries, 0 to 148\n",
      "Data columns (total 8 columns):\n",
      " #   Column                        Non-Null Count  Dtype  \n",
      "---  ------                        --------------  -----  \n",
      " 0   Regional indicator            149 non-null    object \n",
      " 1   Ladder score                  149 non-null    float64\n",
      " 2   Logged GDP per capita         149 non-null    float64\n",
      " 3   Social support                149 non-null    float64\n",
      " 4   Healthy life expectancy       149 non-null    float64\n",
      " 5   Freedom to make life choices  149 non-null    float64\n",
      " 6   Generosity                    149 non-null    float64\n",
      " 7   Perceptions of corruption     149 non-null    float64\n",
      "dtypes: float64(7), object(1)\n",
      "memory usage: 9.4+ KB\n"
     ]
    }
   ],
   "source": [
    "df.info()"
   ]
  },
  {
   "cell_type": "code",
   "execution_count": 76,
   "id": "5abb4954-2fe2-4c74-a672-a002daa73805",
   "metadata": {},
   "outputs": [
    {
     "data": {
      "text/html": [
       "<div>\n",
       "<style scoped>\n",
       "    .dataframe tbody tr th:only-of-type {\n",
       "        vertical-align: middle;\n",
       "    }\n",
       "\n",
       "    .dataframe tbody tr th {\n",
       "        vertical-align: top;\n",
       "    }\n",
       "\n",
       "    .dataframe thead th {\n",
       "        text-align: right;\n",
       "    }\n",
       "</style>\n",
       "<table border=\"1\" class=\"dataframe\">\n",
       "  <thead>\n",
       "    <tr style=\"text-align: right;\">\n",
       "      <th></th>\n",
       "      <th>Ladder score</th>\n",
       "      <th>Logged GDP per capita</th>\n",
       "      <th>Social support</th>\n",
       "      <th>Healthy life expectancy</th>\n",
       "      <th>Freedom to make life choices</th>\n",
       "      <th>Generosity</th>\n",
       "      <th>Perceptions of corruption</th>\n",
       "    </tr>\n",
       "  </thead>\n",
       "  <tbody>\n",
       "    <tr>\n",
       "      <th>count</th>\n",
       "      <td>149.000000</td>\n",
       "      <td>149.000000</td>\n",
       "      <td>149.000000</td>\n",
       "      <td>149.000000</td>\n",
       "      <td>149.000000</td>\n",
       "      <td>149.000000</td>\n",
       "      <td>149.000000</td>\n",
       "    </tr>\n",
       "    <tr>\n",
       "      <th>mean</th>\n",
       "      <td>5.532839</td>\n",
       "      <td>9.432208</td>\n",
       "      <td>0.814745</td>\n",
       "      <td>64.992799</td>\n",
       "      <td>0.791597</td>\n",
       "      <td>-0.015134</td>\n",
       "      <td>0.727450</td>\n",
       "    </tr>\n",
       "    <tr>\n",
       "      <th>std</th>\n",
       "      <td>1.073924</td>\n",
       "      <td>1.158601</td>\n",
       "      <td>0.114889</td>\n",
       "      <td>6.762043</td>\n",
       "      <td>0.113332</td>\n",
       "      <td>0.150657</td>\n",
       "      <td>0.179226</td>\n",
       "    </tr>\n",
       "    <tr>\n",
       "      <th>min</th>\n",
       "      <td>2.523000</td>\n",
       "      <td>6.635000</td>\n",
       "      <td>0.463000</td>\n",
       "      <td>48.478000</td>\n",
       "      <td>0.382000</td>\n",
       "      <td>-0.288000</td>\n",
       "      <td>0.082000</td>\n",
       "    </tr>\n",
       "    <tr>\n",
       "      <th>25%</th>\n",
       "      <td>4.852000</td>\n",
       "      <td>8.541000</td>\n",
       "      <td>0.750000</td>\n",
       "      <td>59.802000</td>\n",
       "      <td>0.718000</td>\n",
       "      <td>-0.126000</td>\n",
       "      <td>0.667000</td>\n",
       "    </tr>\n",
       "    <tr>\n",
       "      <th>50%</th>\n",
       "      <td>5.534000</td>\n",
       "      <td>9.569000</td>\n",
       "      <td>0.832000</td>\n",
       "      <td>66.603000</td>\n",
       "      <td>0.804000</td>\n",
       "      <td>-0.036000</td>\n",
       "      <td>0.781000</td>\n",
       "    </tr>\n",
       "    <tr>\n",
       "      <th>75%</th>\n",
       "      <td>6.255000</td>\n",
       "      <td>10.421000</td>\n",
       "      <td>0.905000</td>\n",
       "      <td>69.600000</td>\n",
       "      <td>0.877000</td>\n",
       "      <td>0.079000</td>\n",
       "      <td>0.845000</td>\n",
       "    </tr>\n",
       "    <tr>\n",
       "      <th>max</th>\n",
       "      <td>7.842000</td>\n",
       "      <td>11.647000</td>\n",
       "      <td>0.983000</td>\n",
       "      <td>76.953000</td>\n",
       "      <td>0.970000</td>\n",
       "      <td>0.542000</td>\n",
       "      <td>0.939000</td>\n",
       "    </tr>\n",
       "  </tbody>\n",
       "</table>\n",
       "</div>"
      ],
      "text/plain": [
       "       Ladder score  Logged GDP per capita  Social support  \\\n",
       "count    149.000000             149.000000      149.000000   \n",
       "mean       5.532839               9.432208        0.814745   \n",
       "std        1.073924               1.158601        0.114889   \n",
       "min        2.523000               6.635000        0.463000   \n",
       "25%        4.852000               8.541000        0.750000   \n",
       "50%        5.534000               9.569000        0.832000   \n",
       "75%        6.255000              10.421000        0.905000   \n",
       "max        7.842000              11.647000        0.983000   \n",
       "\n",
       "       Healthy life expectancy  Freedom to make life choices  Generosity  \\\n",
       "count               149.000000                    149.000000  149.000000   \n",
       "mean                 64.992799                      0.791597   -0.015134   \n",
       "std                   6.762043                      0.113332    0.150657   \n",
       "min                  48.478000                      0.382000   -0.288000   \n",
       "25%                  59.802000                      0.718000   -0.126000   \n",
       "50%                  66.603000                      0.804000   -0.036000   \n",
       "75%                  69.600000                      0.877000    0.079000   \n",
       "max                  76.953000                      0.970000    0.542000   \n",
       "\n",
       "       Perceptions of corruption  \n",
       "count                 149.000000  \n",
       "mean                    0.727450  \n",
       "std                     0.179226  \n",
       "min                     0.082000  \n",
       "25%                     0.667000  \n",
       "50%                     0.781000  \n",
       "75%                     0.845000  \n",
       "max                     0.939000  "
      ]
     },
     "execution_count": 76,
     "metadata": {},
     "output_type": "execute_result"
    }
   ],
   "source": [
    "df.describe()"
   ]
  },
  {
   "cell_type": "code",
   "execution_count": 77,
   "id": "197b2706-8360-4ae3-95cc-f2cdbfc108a1",
   "metadata": {},
   "outputs": [
    {
     "name": "stdout",
     "output_type": "stream",
     "text": [
      "Index(['Regional indicator', 'Ladder score', 'Logged GDP per capita',\n",
      "       'Social support', 'Healthy life expectancy',\n",
      "       'Freedom to make life choices', 'Generosity',\n",
      "       'Perceptions of corruption'],\n",
      "      dtype='object')\n"
     ]
    }
   ],
   "source": [
    "print(df.columns)"
   ]
  },
  {
   "cell_type": "markdown",
   "id": "a0bbcc94-3893-4982-9d23-35fe0ab7cce5",
   "metadata": {},
   "source": [
    "Defining the target and feature variables"
   ]
  },
  {
   "cell_type": "code",
   "execution_count": 78,
   "id": "3fee6505-bb11-4000-b048-2ff4a87294f9",
   "metadata": {},
   "outputs": [
    {
     "name": "stdout",
     "output_type": "stream",
     "text": [
      "Model features:  Index(['Ladder score', 'Logged GDP per capita', 'Social support',\n",
      "       'Healthy life expectancy', 'Freedom to make life choices', 'Generosity',\n",
      "       'Perceptions of corruption'],\n",
      "      dtype='object')\n",
      "Model target:  Regional indicator\n"
     ]
    }
   ],
   "source": [
    "model_features = df.columns.drop('Regional indicator')\n",
    "model_target = 'Regional indicator'\n",
    "\n",
    "print('Model features: ', model_features)\n",
    "print('Model target: ', model_target)"
   ]
  },
  {
   "cell_type": "markdown",
   "id": "85322aa8-8183-4346-8657-8ca8cf2b5693",
   "metadata": {},
   "source": [
    "### 3.2 Performing Exploratory Data Analysis"
   ]
  },
  {
   "cell_type": "code",
   "execution_count": 79,
   "id": "73a4ef70-66e4-491c-8545-f0e64140d453",
   "metadata": {},
   "outputs": [
    {
     "data": {
      "image/png": "[encoded data removed]",
      "text/plain": [
       "<Figure size 432x288 with 1 Axes>"
      ]
     },
     "metadata": {
      "needs_background": "light"
     },
     "output_type": "display_data"
    }
   ],
   "source": [
    "import matplotlib.pyplot as plt\n",
    "%matplotlib inline\n",
    "\n",
    "df[model_target].value_counts().plot.bar()\n",
    "plt.show()\n",
    "\n",
    "#Helps us determine if we are dealing with imbalanced datasets and if down or up-sampling will be required. "
   ]
  },
  {
   "cell_type": "code",
   "execution_count": 80,
   "id": "a414c272-d0f1-4d1e-ae1b-35c3c33f74c7",
   "metadata": {},
   "outputs": [
    {
     "name": "stdout",
     "output_type": "stream",
     "text": [
      "Ladder score\n"
     ]
    },
    {
     "data": {
      "image/png": "[encoded data removed]",
      "text/plain": [
       "<Figure size 432x288 with 1 Axes>"
      ]
     },
     "metadata": {
      "needs_background": "light"
     },
     "output_type": "display_data"
    },
    {
     "name": "stdout",
     "output_type": "stream",
     "text": [
      "Logged GDP per capita\n"
     ]
    },
    {
     "data": {
      "image/png": "[encoded data removed]",
      "text/plain": [
       "<Figure size 432x288 with 1 Axes>"
      ]
     },
     "metadata": {
      "needs_background": "light"
     },
     "output_type": "display_data"
    },
    {
     "name": "stdout",
     "output_type": "stream",
     "text": [
      "Social support\n"
     ]
    },
    {
     "data": {
      "image/png": "[encoded data removed]",
      "text/plain": [
       "<Figure size 432x288 with 1 Axes>"
      ]
     },
     "metadata": {
      "needs_background": "light"
     },
     "output_type": "display_data"
    },
    {
     "name": "stdout",
     "output_type": "stream",
     "text": [
      "Healthy life expectancy\n"
     ]
    },
    {
     "data": {
      "image/png": "[encoded data removed]",
      "text/plain": [
       "<Figure size 432x288 with 1 Axes>"
      ]
     },
     "metadata": {
      "needs_background": "light"
     },
     "output_type": "display_data"
    },
    {
     "name": "stdout",
     "output_type": "stream",
     "text": [
      "Freedom to make life choices\n"
     ]
    },
    {
     "data": {
      "image/png": "[encoded data removed]",
      "text/plain": [
       "<Figure size 432x288 with 1 Axes>"
      ]
     },
     "metadata": {
      "needs_background": "light"
     },
     "output_type": "display_data"
    },
    {
     "name": "stdout",
     "output_type": "stream",
     "text": [
      "Generosity\n"
     ]
    },
    {
     "data": {
      "image/png": "[encoded data removed]",
      "text/plain": [
       "<Figure size 432x288 with 1 Axes>"
      ]
     },
     "metadata": {
      "needs_background": "light"
     },
     "output_type": "display_data"
    },
    {
     "name": "stdout",
     "output_type": "stream",
     "text": [
      "Perceptions of corruption\n"
     ]
    },
    {
     "data": {
      "image/png": "[encoded data removed]",
      "text/plain": [
       "<Figure size 432x288 with 1 Axes>"
      ]
     },
     "metadata": {
      "needs_background": "light"
     },
     "output_type": "display_data"
    }
   ],
   "source": [
    "import matplotlib.pyplot as plt\n",
    "%matplotlib inline\n",
    "\n",
    "for c in model_features:\n",
    "    print(c)\n",
    "    df[c].plot.hist(bins=5)\n",
    "    plt.show()\n",
    "    \n",
    "# It is good practice to view the distribution of your variables."
   ]
  },
  {
   "cell_type": "code",
   "execution_count": 81,
   "id": "397d7dc7-dce8-41af-8545-4a27f999737c",
   "metadata": {},
   "outputs": [
    {
     "name": "stdout",
     "output_type": "stream",
     "text": [
      "Ladder score\n",
      "min: 2.523 max: 7.842\n",
      "Logged GDP per capita\n",
      "min: 6.635 max: 11.647\n",
      "Social support\n",
      "min: 0.463 max: 0.983\n",
      "Healthy life expectancy\n",
      "min: 48.478 max: 76.953\n",
      "Freedom to make life choices\n",
      "min: 0.382 max: 0.97\n",
      "Generosity\n",
      "min: -0.288 max: 0.542\n",
      "Perceptions of corruption\n",
      "min: 0.082 max: 0.939\n"
     ]
    }
   ],
   "source": [
    "for c in model_features:\n",
    "    print(c)\n",
    "    print('min:', df[c].min(), 'max:', df[c].max())\n",
    "    \n",
    "# This bit helps check for outliers in the dataset.\n",
    "# Based of the histograms and result of this code our data looks good."
   ]
  },
  {
   "cell_type": "code",
   "execution_count": 82,
   "id": "28fccda7-142b-409d-b8a6-f4b2f07a791d",
   "metadata": {},
   "outputs": [
    {
     "name": "stdout",
     "output_type": "stream",
     "text": [
      "Ladder score                    0\n",
      "Logged GDP per capita           0\n",
      "Social support                  0\n",
      "Healthy life expectancy         0\n",
      "Freedom to make life choices    0\n",
      "Generosity                      0\n",
      "Perceptions of corruption       0\n",
      "dtype: int64\n"
     ]
    }
   ],
   "source": [
    "print(df[model_features].isna().sum())\n",
    "# Check for missing values"
   ]
  },
  {
   "cell_type": "markdown",
   "id": "16a554a2-d6c2-41a1-b13b-ee86c5fd3ad5",
   "metadata": {},
   "source": [
    "### 3.3 Upsampling the Data"
   ]
  },
  {
   "cell_type": "code",
   "execution_count": 83,
   "id": "365a28b0-21da-406c-bb25-d7b7d8d17b5e",
   "metadata": {},
   "outputs": [
    {
     "name": "stdout",
     "output_type": "stream",
     "text": [
      "Data set shape: (149, 8)\n",
      "Class 1 samples in the data set: 21\n",
      "Class 2 samples in the data set: 4\n",
      "Class 3 samples in the data set: 17\n",
      "Class 4 samples in the data set: 20\n",
      "Class 5 samples in the data set: 17\n",
      "Class 6 samples in the data set: 6\n",
      "Class 7 samples in the data set: 9\n",
      "Class 8 samples in the data set: 12\n",
      "Class 9 samples in the data set: 36\n",
      "Class 10 samples in the data set: 7\n"
     ]
    }
   ],
   "source": [
    "print('Data set shape:', df.shape)\n",
    "\n",
    "print('Class 1 samples in the data set:', sum(df[model_target] == 'Western Europe'))\n",
    "print('Class 2 samples in the data set:', sum(df[model_target] == 'North America and ANZ'))\n",
    "print('Class 3 samples in the data set:', sum(df[model_target] == 'Middle East and North Africa'))\n",
    "print('Class 4 samples in the data set:', sum(df[model_target] == 'Latin America and Caribbean'))\n",
    "print('Class 5 samples in the data set:', sum(df[model_target] == 'Central and Eastern Europe'))\n",
    "print('Class 6 samples in the data set:', sum(df[model_target] == 'East Asia'))\n",
    "print('Class 7 samples in the data set:', sum(df[model_target] == 'Southeast Asia'))\n",
    "print('Class 8 samples in the data set:', sum(df[model_target] == 'Commonwealth of Independent States'))\n",
    "print('Class 9 samples in the data set:', sum(df[model_target] == 'Sub-Saharan Africa'))\n",
    "print('Class 10 samples in the data set:', sum(df[model_target] == 'South Asia'))\n"
   ]
  },
  {
   "cell_type": "markdown",
   "id": "bb4655f7-8afe-4bf1-9184-216d3d8f7b49",
   "metadata": {},
   "source": [
    "There is a large imbalance between the number of observations in our target categories. Because we have a limited amount of data we will upsample so there are 36 observations for each target category."
   ]
  },
  {
   "cell_type": "code",
   "execution_count": 84,
   "id": "6b512e29-9aa5-4fcb-82fc-b04c6ff9b4f1",
   "metadata": {},
   "outputs": [],
   "source": [
    "from sklearn.utils import shuffle"
   ]
  },
  {
   "cell_type": "code",
   "execution_count": 85,
   "id": "538c8c96-9c85-4e44-907b-68bf0af692a3",
   "metadata": {},
   "outputs": [],
   "source": [
    "class_1_no = df[df[model_target] == 'Western Europe']\n",
    "class_2_no = df[df[model_target] == 'North America and ANZ']\n",
    "class_3_no = df[df[model_target] == 'Middle East and North Africa']\n",
    "class_4_no = df[df[model_target] == 'Latin America and Caribbean']\n",
    "class_5_no = df[df[model_target] == 'Central and Eastern Europe']\n",
    "class_6_no = df[df[model_target] == 'East Asia']\n",
    "class_7_no = df[df[model_target] == 'Southeast Asia']\n",
    "class_8_no = df[df[model_target] == 'Commonwealth of Independent States']\n",
    "class_9_no = df[df[model_target] == 'Sub-Saharan Africa']\n",
    "class_10_no = df[df[model_target] == 'South Asia']\n",
    "\n",
    "upsampled_class_1_no = class_1_no.sample(n=len(class_9_no), replace=True)\n",
    "upsampled_class_2_no = class_2_no.sample(n=len(class_9_no), replace=True)\n",
    "upsampled_class_3_no = class_3_no.sample(n=len(class_9_no), replace=True)\n",
    "upsampled_class_4_no = class_4_no.sample(n=len(class_9_no), replace=True)\n",
    "upsampled_class_5_no = class_5_no.sample(n=len(class_9_no), replace=True)\n",
    "upsampled_class_6_no = class_6_no.sample(n=len(class_9_no), replace=True)\n",
    "upsampled_class_7_no = class_7_no.sample(n=len(class_9_no), replace=True)\n",
    "upsampled_class_8_no = class_8_no.sample(n=len(class_9_no), replace=True)\n",
    "upsampled_class_10_no = class_10_no.sample(n=len(class_9_no), replace=True)\n",
    "\n",
    "\n",
    "df_upsampled = pd.concat([class_9_no, upsampled_class_1_no, upsampled_class_2_no, upsampled_class_3_no, upsampled_class_4_no,\n",
    "                         upsampled_class_5_no, upsampled_class_6_no, upsampled_class_7_no,upsampled_class_8_no, upsampled_class_10_no])\n",
    "df_upsampled = shuffle(df_upsampled)"
   ]
  },
  {
   "cell_type": "code",
   "execution_count": 86,
   "id": "03ca5cf7-226c-4ba5-859c-74daef8eb7ec",
   "metadata": {},
   "outputs": [
    {
     "name": "stdout",
     "output_type": "stream",
     "text": [
      "Data set shape: (360, 8)\n"
     ]
    }
   ],
   "source": [
    "print('Data set shape:', df_upsampled.shape)"
   ]
  },
  {
   "cell_type": "markdown",
   "id": "8142d9e8-aa44-4942-870a-609eaaecaffc",
   "metadata": {},
   "source": [
    "### 3.4 Model Training/Fitting"
   ]
  },
  {
   "cell_type": "code",
   "execution_count": 87,
   "id": "c795f1aa-21bf-4bd9-b321-81b25c1398b0",
   "metadata": {},
   "outputs": [],
   "source": [
    "# Importing some more packages.\n",
    "from sklearn.preprocessing import MinMaxScaler\n",
    "from sklearn.neighbors import KNeighborsClassifier\n",
    "from sklearn.metrics import accuracy_score"
   ]
  },
  {
   "cell_type": "code",
   "execution_count": 88,
   "id": "0010611f-4613-4116-aecc-7fc1350021de",
   "metadata": {},
   "outputs": [],
   "source": [
    "scaler  = MinMaxScaler()"
   ]
  },
  {
   "cell_type": "code",
   "execution_count": 89,
   "id": "da137745-2b32-4cea-8c0b-055f85a79568",
   "metadata": {},
   "outputs": [],
   "source": [
    "df_upsampled[model_features] = scaler.fit_transform(df_upsampled[model_features])\n",
    "# Scales the data between 0 and 1. This improves the model accuracy."
   ]
  },
  {
   "cell_type": "markdown",
   "id": "099e5db0-1208-4cd3-9502-b7dcbdc51c5f",
   "metadata": {},
   "source": [
    "Below we will iterate through different values of K to determine which performs best. A general rule is to set K equal to the squareroot of n, where n equal the number of observations. For this example I demonstrated setting K between 1 and 20."
   ]
  },
  {
   "cell_type": "code",
   "execution_count": 96,
   "id": "f45d296c-dca0-4493-a0df-b89dfb6c5236",
   "metadata": {},
   "outputs": [
    {
     "name": "stdout",
     "output_type": "stream",
     "text": [
      "K=1, Validation accuracy: 1.000000\n",
      "K=2, Validation accuracy: 0.966667\n",
      "K=3, Validation accuracy: 0.966667\n",
      "K=4, Validation accuracy: 0.891667\n",
      "K=5, Validation accuracy: 0.866667\n",
      "K=6, Validation accuracy: 0.841667\n",
      "K=7, Validation accuracy: 0.794444\n",
      "K=8, Validation accuracy: 0.772222\n",
      "K=9, Validation accuracy: 0.763889\n",
      "K=10, Validation accuracy: 0.750000\n",
      "K=11, Validation accuracy: 0.719444\n",
      "K=12, Validation accuracy: 0.719444\n",
      "K=13, Validation accuracy: 0.708333\n",
      "K=14, Validation accuracy: 0.722222\n",
      "K=15, Validation accuracy: 0.702778\n",
      "K=16, Validation accuracy: 0.686111\n",
      "K=17, Validation accuracy: 0.669444\n",
      "K=18, Validation accuracy: 0.666667\n",
      "K=19, Validation accuracy: 0.661111\n",
      "K=20, Validation accuracy: 0.650000\n",
      "K_best=1, Best Validation accuracy: 1.000000\n"
     ]
    }
   ],
   "source": [
    "X_train = df_upsampled[model_features]\n",
    "y_train = df_upsampled[model_target]\n",
    "\n",
    "# Trying different values of K in an automated way\n",
    "K_values = [1, 2, 3, 4, 5, 6, 7, 8, 9, 10, 11, 12 ,13, 14, 15, 16, 17, 18 , 19, 20]\n",
    "\n",
    "K_best = 0.0\n",
    "train_score_best = 0.0\n",
    "for K in K_values:\n",
    "    classifier = KNeighborsClassifier(n_neighbors = K)\n",
    "    classifier.fit(X_train, y_train)\n",
    "    train_predictions = classifier.predict(X_train)\n",
    "    train_acc = accuracy_score(y_train, train_predictions)\n",
    "    print(\"K=%d, Validation accuracy: %f\" % (K, train_acc))\n",
    "    if train_acc > train_score_best:\n",
    "        K_best = K\n",
    "        train_score_best = train_acc\n",
    "        \n",
    "print(\"K_best=%d, Best Validation accuracy: %f\" % (K_best, train_score_best))"
   ]
  },
  {
   "cell_type": "markdown",
   "id": "0bd87bce-1808-460f-a6f9-019b71bf76a1",
   "metadata": {},
   "source": [
    "The model says a K equal to 1 builds the best model. The problem with setting K equal to 1 though is that it will overfit the model. \n",
    "Using the general rule that K should be near the squareroot of n, it appears that a value of 14 may be the best choice as we see that there is a relative peak there."
   ]
  },
  {
   "cell_type": "markdown",
   "id": "ea9b4ca5-7eb8-4672-9311-c599c994caa5",
   "metadata": {},
   "source": [
    "## 4. Model Evaluation"
   ]
  },
  {
   "cell_type": "markdown",
   "id": "fc553109-dc36-4c96-97c8-5fb54d05925b",
   "metadata": {},
   "source": [
    "Now we can use sklearn to help evaluate our model's accuaracy."
   ]
  },
  {
   "cell_type": "code",
   "execution_count": 99,
   "id": "f0028ed1-de7e-47df-9ba9-0b0bafb54e2d",
   "metadata": {},
   "outputs": [
    {
     "name": "stdout",
     "output_type": "stream",
     "text": [
      "Model performance on the train set:\n",
      "[[22  3  0  4  0  0  2  3  0  2]\n",
      " [ 6 18  0 10  2  0  0  0  0  0]\n",
      " [ 0  0 32  0  4  0  0  0  0  0]\n",
      " [ 1  0  0 28  2  0  2  0  3  0]\n",
      " [ 1  4  3  0 22  3  0  0  3  0]\n",
      " [ 0  0  0  0  0 36  0  0  0  0]\n",
      " [ 0  0  0  0  0  0 29  2  5  0]\n",
      " [ 0  0  0  0  0  0  2 33  0  1]\n",
      " [ 0  1  0  1  4  0  5  0 25  0]\n",
      " [ 1  0  7  0  0 13  0  0  0 15]]\n",
      "                                    precision    recall  f1-score   support\n",
      "\n",
      "        Central and Eastern Europe       0.71      0.61      0.66        36\n",
      "Commonwealth of Independent States       0.69      0.50      0.58        36\n",
      "                         East Asia       0.76      0.89      0.82        36\n",
      "       Latin America and Caribbean       0.65      0.78      0.71        36\n",
      "      Middle East and North Africa       0.65      0.61      0.63        36\n",
      "             North America and ANZ       0.69      1.00      0.82        36\n",
      "                        South Asia       0.72      0.81      0.76        36\n",
      "                    Southeast Asia       0.87      0.92      0.89        36\n",
      "                Sub-Saharan Africa       0.69      0.69      0.69        36\n",
      "                    Western Europe       0.83      0.42      0.56        36\n",
      "\n",
      "                          accuracy                           0.72       360\n",
      "                         macro avg       0.73      0.72      0.71       360\n",
      "                      weighted avg       0.73      0.72      0.71       360\n",
      "\n",
      "Train accuracy: 0.7222222222222222\n"
     ]
    }
   ],
   "source": [
    "from sklearn.metrics import confusion_matrix, classification_report, accuracy_score, f1_score\n",
    "\n",
    "# Use the fitted model to make predictions on the train dataset\n",
    "classifier = KNeighborsClassifier(n_neighbors = 14)\n",
    "classifier.fit(X_train, y_train)\n",
    "train_predictions = classifier.predict(X_train)\n",
    "\n",
    "print('Model performance on the train set:')\n",
    "print(confusion_matrix(y_train, train_predictions))\n",
    "print(classification_report(y_train, train_predictions))\n",
    "print(\"Train accuracy:\", accuracy_score(y_train, train_predictions))"
   ]
  },
  {
   "cell_type": "code",
   "execution_count": null,
   "id": "822befde-8285-40c0-af0a-78021e83c5b4",
   "metadata": {},
   "outputs": [],
   "source": []
  },
  {
   "cell_type": "code",
   "execution_count": null,
   "id": "c2e62652-c86c-49dc-8600-caa039da3b4d",
   "metadata": {},
   "outputs": [],
   "source": []
  },
  {
   "cell_type": "code",
   "execution_count": null,
   "id": "46244615-a9b0-421a-b30a-af8923b6c494",
   "metadata": {},
   "outputs": [],
   "source": []
  },
  {
   "cell_type": "code",
   "execution_count": null,
   "id": "56213511-f9a4-4b63-825c-5e7597a847a7",
   "metadata": {},
   "outputs": [],
   "source": []
  },
  {
   "cell_type": "code",
   "execution_count": null,
   "id": "e4b2ff9e-0fc3-49d8-b734-22942b3c50df",
   "metadata": {},
   "outputs": [],
   "source": []
  }
 ],
 "metadata": {
  "kernelspec": {
   "display_name": "Python 3",
   "language": "python",
   "name": "python3"
  },
  "language_info": {
   "codemirror_mode": {
    "name": "ipython",
    "version": 3
   },
   "file_extension": ".py",
   "mimetype": "text/x-python",
   "name": "python",
   "nbconvert_exporter": "python",
   "pygments_lexer": "ipython3",
   "version": "3.7.10"
  }
 },
 "nbformat": 4,
 "nbformat_minor": 5
}
